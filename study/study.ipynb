{
 "cells": [
  {
   "cell_type": "markdown",
   "metadata": {},
   "source": [
    "# 1.3.3 예제"
   ]
  },
  {
   "cell_type": "code",
   "execution_count": 1,
   "metadata": {},
   "outputs": [],
   "source": [
    "import pandas as pd\n",
    "import numpy as np\n",
    "from scipy import stats"
   ]
  },
  {
   "cell_type": "code",
   "execution_count": 2,
   "metadata": {},
   "outputs": [],
   "source": [
    "path = 'C:/workspace/study_data/'"
   ]
  },
  {
   "cell_type": "code",
   "execution_count": 3,
   "metadata": {},
   "outputs": [],
   "source": [
    "state = pd.read_csv(path + 'state.csv')"
   ]
  },
  {
   "cell_type": "code",
   "execution_count": 4,
   "metadata": {},
   "outputs": [
    {
     "data": {
      "text/html": [
       "<div>\n",
       "<style scoped>\n",
       "    .dataframe tbody tr th:only-of-type {\n",
       "        vertical-align: middle;\n",
       "    }\n",
       "\n",
       "    .dataframe tbody tr th {\n",
       "        vertical-align: top;\n",
       "    }\n",
       "\n",
       "    .dataframe thead th {\n",
       "        text-align: right;\n",
       "    }\n",
       "</style>\n",
       "<table border=\"1\" class=\"dataframe\">\n",
       "  <thead>\n",
       "    <tr style=\"text-align: right;\">\n",
       "      <th></th>\n",
       "      <th>State</th>\n",
       "      <th>Population</th>\n",
       "      <th>Murder.Rate</th>\n",
       "      <th>Abbreviation</th>\n",
       "    </tr>\n",
       "  </thead>\n",
       "  <tbody>\n",
       "    <tr>\n",
       "      <th>0</th>\n",
       "      <td>Alabama</td>\n",
       "      <td>4779736</td>\n",
       "      <td>5.7</td>\n",
       "      <td>AL</td>\n",
       "    </tr>\n",
       "    <tr>\n",
       "      <th>1</th>\n",
       "      <td>Alaska</td>\n",
       "      <td>710231</td>\n",
       "      <td>5.6</td>\n",
       "      <td>AK</td>\n",
       "    </tr>\n",
       "    <tr>\n",
       "      <th>2</th>\n",
       "      <td>Arizona</td>\n",
       "      <td>6392017</td>\n",
       "      <td>4.7</td>\n",
       "      <td>AZ</td>\n",
       "    </tr>\n",
       "    <tr>\n",
       "      <th>3</th>\n",
       "      <td>Arkansas</td>\n",
       "      <td>2915918</td>\n",
       "      <td>5.6</td>\n",
       "      <td>AR</td>\n",
       "    </tr>\n",
       "    <tr>\n",
       "      <th>4</th>\n",
       "      <td>California</td>\n",
       "      <td>37253956</td>\n",
       "      <td>4.4</td>\n",
       "      <td>CA</td>\n",
       "    </tr>\n",
       "  </tbody>\n",
       "</table>\n",
       "</div>"
      ],
      "text/plain": [
       "        State  Population  Murder.Rate Abbreviation\n",
       "0     Alabama     4779736          5.7           AL\n",
       "1      Alaska      710231          5.6           AK\n",
       "2     Arizona     6392017          4.7           AZ\n",
       "3    Arkansas     2915918          5.6           AR\n",
       "4  California    37253956          4.4           CA"
      ]
     },
     "execution_count": 4,
     "metadata": {},
     "output_type": "execute_result"
    }
   ],
   "source": [
    "state.head()"
   ]
  },
  {
   "cell_type": "code",
   "execution_count": 5,
   "metadata": {},
   "outputs": [
    {
     "data": {
      "text/plain": [
       "6162876.3"
      ]
     },
     "execution_count": 5,
     "metadata": {},
     "output_type": "execute_result"
    }
   ],
   "source": [
    "state['Population'].mean()"
   ]
  },
  {
   "cell_type": "code",
   "execution_count": 6,
   "metadata": {},
   "outputs": [
    {
     "data": {
      "text/plain": [
       "4436369.5"
      ]
     },
     "execution_count": 6,
     "metadata": {},
     "output_type": "execute_result"
    }
   ],
   "source": [
    "state['Population'].median()"
   ]
  },
  {
   "cell_type": "code",
   "execution_count": 10,
   "metadata": {},
   "outputs": [],
   "source": [
    "# np.average(state['Population'], 0.1)"
   ]
  },
  {
   "cell_type": "code",
   "execution_count": 11,
   "metadata": {},
   "outputs": [
    {
     "data": {
      "text/plain": [
       "4783697.125"
      ]
     },
     "execution_count": 11,
     "metadata": {},
     "output_type": "execute_result"
    }
   ],
   "source": [
    "stats.trim_mean(state['Population'], 0.1)"
   ]
  },
  {
   "cell_type": "code",
   "execution_count": 12,
   "metadata": {},
   "outputs": [
    {
     "data": {
      "text/plain": [
       "4.445833981123393"
      ]
     },
     "execution_count": 12,
     "metadata": {},
     "output_type": "execute_result"
    }
   ],
   "source": [
    "np.average(state['Murder.Rate'], weights=state['Population'])"
   ]
  },
  {
   "cell_type": "code",
   "execution_count": 13,
   "metadata": {},
   "outputs": [
    {
     "data": {
      "text/plain": [
       "4.4"
      ]
     },
     "execution_count": 13,
     "metadata": {},
     "output_type": "execute_result"
    }
   ],
   "source": [
    "import weighted\n",
    "\n",
    "weighted.median(state['Murder.Rate'], state['Population']) # 가중 중간값\n"
   ]
  },
  {
   "cell_type": "code",
   "execution_count": 15,
   "metadata": {},
   "outputs": [],
   "source": [
    "# np.median(state['Murder.Rate'], state['Population'])"
   ]
  },
  {
   "cell_type": "code",
   "execution_count": null,
   "metadata": {},
   "outputs": [],
   "source": []
  },
  {
   "cell_type": "code",
   "execution_count": null,
   "metadata": {},
   "outputs": [],
   "source": []
  },
  {
   "cell_type": "code",
   "execution_count": null,
   "metadata": {},
   "outputs": [],
   "source": []
  },
  {
   "cell_type": "code",
   "execution_count": null,
   "metadata": {},
   "outputs": [],
   "source": []
  },
  {
   "cell_type": "code",
   "execution_count": 16,
   "metadata": {},
   "outputs": [
    {
     "data": {
      "text/plain": [
       "4847308.0"
      ]
     },
     "execution_count": 16,
     "metadata": {},
     "output_type": "execute_result"
    }
   ],
   "source": [
    "from scipy.stats import iqr\n",
    "\n",
    "iqr(state['Population'])"
   ]
  },
  {
   "cell_type": "code",
   "execution_count": 17,
   "metadata": {},
   "outputs": [
    {
     "data": {
      "text/plain": [
       "3.124999999999999"
      ]
     },
     "execution_count": 17,
     "metadata": {},
     "output_type": "execute_result"
    }
   ],
   "source": [
    "iqr(state['Murder.Rate'])"
   ]
  },
  {
   "cell_type": "code",
   "execution_count": null,
   "metadata": {},
   "outputs": [],
   "source": []
  },
  {
   "cell_type": "markdown",
   "metadata": {},
   "source": [
    "# 1.7 상관관계"
   ]
  },
  {
   "cell_type": "code",
   "execution_count": 18,
   "metadata": {},
   "outputs": [],
   "source": [
    "import pandas as pd\n",
    "import numpy as np\n",
    "\n",
    "data = pd.read_csv(path + 'sp500_px.csv', index_col=0)"
   ]
  },
  {
   "cell_type": "code",
   "execution_count": 19,
   "metadata": {},
   "outputs": [
    {
     "data": {
      "text/html": [
       "<div>\n",
       "<style scoped>\n",
       "    .dataframe tbody tr th:only-of-type {\n",
       "        vertical-align: middle;\n",
       "    }\n",
       "\n",
       "    .dataframe tbody tr th {\n",
       "        vertical-align: top;\n",
       "    }\n",
       "\n",
       "    .dataframe thead th {\n",
       "        text-align: right;\n",
       "    }\n",
       "</style>\n",
       "<table border=\"1\" class=\"dataframe\">\n",
       "  <thead>\n",
       "    <tr style=\"text-align: right;\">\n",
       "      <th></th>\n",
       "      <th>ADS</th>\n",
       "      <th>CA</th>\n",
       "      <th>MSFT</th>\n",
       "      <th>RHT</th>\n",
       "      <th>CTSH</th>\n",
       "      <th>CSC</th>\n",
       "      <th>EMC</th>\n",
       "      <th>IBM</th>\n",
       "      <th>XRX</th>\n",
       "      <th>ALTR</th>\n",
       "      <th>...</th>\n",
       "      <th>WAT</th>\n",
       "      <th>ALXN</th>\n",
       "      <th>AMGN</th>\n",
       "      <th>BXLT</th>\n",
       "      <th>BIIB</th>\n",
       "      <th>CELG</th>\n",
       "      <th>GILD</th>\n",
       "      <th>REGN</th>\n",
       "      <th>VRTX</th>\n",
       "      <th>HSIC</th>\n",
       "    </tr>\n",
       "  </thead>\n",
       "  <tbody>\n",
       "    <tr>\n",
       "      <th>1993-01-29</th>\n",
       "      <td>0.0</td>\n",
       "      <td>0.060124</td>\n",
       "      <td>-0.022100</td>\n",
       "      <td>0.0</td>\n",
       "      <td>0.0</td>\n",
       "      <td>0.018897</td>\n",
       "      <td>0.007368</td>\n",
       "      <td>0.092165</td>\n",
       "      <td>0.259140</td>\n",
       "      <td>-0.007105</td>\n",
       "      <td>...</td>\n",
       "      <td>0.0</td>\n",
       "      <td>0.0</td>\n",
       "      <td>0.34716</td>\n",
       "      <td>0.0</td>\n",
       "      <td>0.04167</td>\n",
       "      <td>0.00000</td>\n",
       "      <td>0.015564</td>\n",
       "      <td>1.75</td>\n",
       "      <td>0.1250</td>\n",
       "      <td>0.0</td>\n",
       "    </tr>\n",
       "    <tr>\n",
       "      <th>1993-02-01</th>\n",
       "      <td>0.0</td>\n",
       "      <td>-0.180389</td>\n",
       "      <td>0.027621</td>\n",
       "      <td>0.0</td>\n",
       "      <td>0.0</td>\n",
       "      <td>0.018889</td>\n",
       "      <td>0.018425</td>\n",
       "      <td>0.115207</td>\n",
       "      <td>-0.100775</td>\n",
       "      <td>0.063893</td>\n",
       "      <td>...</td>\n",
       "      <td>0.0</td>\n",
       "      <td>0.0</td>\n",
       "      <td>-0.23144</td>\n",
       "      <td>0.0</td>\n",
       "      <td>0.00000</td>\n",
       "      <td>-0.01041</td>\n",
       "      <td>0.007782</td>\n",
       "      <td>1.25</td>\n",
       "      <td>0.1250</td>\n",
       "      <td>0.0</td>\n",
       "    </tr>\n",
       "    <tr>\n",
       "      <th>1993-02-02</th>\n",
       "      <td>0.0</td>\n",
       "      <td>-0.120257</td>\n",
       "      <td>0.035900</td>\n",
       "      <td>0.0</td>\n",
       "      <td>0.0</td>\n",
       "      <td>-0.075573</td>\n",
       "      <td>0.029482</td>\n",
       "      <td>-0.023041</td>\n",
       "      <td>0.028796</td>\n",
       "      <td>-0.014192</td>\n",
       "      <td>...</td>\n",
       "      <td>0.0</td>\n",
       "      <td>0.0</td>\n",
       "      <td>-0.11572</td>\n",
       "      <td>0.0</td>\n",
       "      <td>0.00000</td>\n",
       "      <td>0.00000</td>\n",
       "      <td>-0.007792</td>\n",
       "      <td>-0.25</td>\n",
       "      <td>0.0000</td>\n",
       "      <td>0.0</td>\n",
       "    </tr>\n",
       "    <tr>\n",
       "      <th>1993-02-03</th>\n",
       "      <td>0.0</td>\n",
       "      <td>0.060124</td>\n",
       "      <td>-0.024857</td>\n",
       "      <td>0.0</td>\n",
       "      <td>0.0</td>\n",
       "      <td>-0.151128</td>\n",
       "      <td>0.003689</td>\n",
       "      <td>-0.253454</td>\n",
       "      <td>-0.043190</td>\n",
       "      <td>-0.007105</td>\n",
       "      <td>...</td>\n",
       "      <td>0.0</td>\n",
       "      <td>0.0</td>\n",
       "      <td>-0.08679</td>\n",
       "      <td>0.0</td>\n",
       "      <td>0.04167</td>\n",
       "      <td>-0.04167</td>\n",
       "      <td>-0.038919</td>\n",
       "      <td>-0.50</td>\n",
       "      <td>0.0625</td>\n",
       "      <td>0.0</td>\n",
       "    </tr>\n",
       "    <tr>\n",
       "      <th>1993-02-04</th>\n",
       "      <td>0.0</td>\n",
       "      <td>-0.360770</td>\n",
       "      <td>-0.060757</td>\n",
       "      <td>0.0</td>\n",
       "      <td>0.0</td>\n",
       "      <td>0.113350</td>\n",
       "      <td>-0.022114</td>\n",
       "      <td>0.069862</td>\n",
       "      <td>0.000000</td>\n",
       "      <td>-0.007096</td>\n",
       "      <td>...</td>\n",
       "      <td>0.0</td>\n",
       "      <td>0.0</td>\n",
       "      <td>0.14465</td>\n",
       "      <td>0.0</td>\n",
       "      <td>-0.04166</td>\n",
       "      <td>-0.03126</td>\n",
       "      <td>-0.046711</td>\n",
       "      <td>0.00</td>\n",
       "      <td>0.0625</td>\n",
       "      <td>0.0</td>\n",
       "    </tr>\n",
       "  </tbody>\n",
       "</table>\n",
       "<p>5 rows × 517 columns</p>\n",
       "</div>"
      ],
      "text/plain": [
       "            ADS        CA      MSFT  RHT  CTSH       CSC       EMC       IBM  \\\n",
       "1993-01-29  0.0  0.060124 -0.022100  0.0   0.0  0.018897  0.007368  0.092165   \n",
       "1993-02-01  0.0 -0.180389  0.027621  0.0   0.0  0.018889  0.018425  0.115207   \n",
       "1993-02-02  0.0 -0.120257  0.035900  0.0   0.0 -0.075573  0.029482 -0.023041   \n",
       "1993-02-03  0.0  0.060124 -0.024857  0.0   0.0 -0.151128  0.003689 -0.253454   \n",
       "1993-02-04  0.0 -0.360770 -0.060757  0.0   0.0  0.113350 -0.022114  0.069862   \n",
       "\n",
       "                 XRX      ALTR  ...  WAT  ALXN     AMGN  BXLT     BIIB  \\\n",
       "1993-01-29  0.259140 -0.007105  ...  0.0   0.0  0.34716   0.0  0.04167   \n",
       "1993-02-01 -0.100775  0.063893  ...  0.0   0.0 -0.23144   0.0  0.00000   \n",
       "1993-02-02  0.028796 -0.014192  ...  0.0   0.0 -0.11572   0.0  0.00000   \n",
       "1993-02-03 -0.043190 -0.007105  ...  0.0   0.0 -0.08679   0.0  0.04167   \n",
       "1993-02-04  0.000000 -0.007096  ...  0.0   0.0  0.14465   0.0 -0.04166   \n",
       "\n",
       "               CELG      GILD  REGN    VRTX  HSIC  \n",
       "1993-01-29  0.00000  0.015564  1.75  0.1250   0.0  \n",
       "1993-02-01 -0.01041  0.007782  1.25  0.1250   0.0  \n",
       "1993-02-02  0.00000 -0.007792 -0.25  0.0000   0.0  \n",
       "1993-02-03 -0.04167 -0.038919 -0.50  0.0625   0.0  \n",
       "1993-02-04 -0.03126 -0.046711  0.00  0.0625   0.0  \n",
       "\n",
       "[5 rows x 517 columns]"
      ]
     },
     "execution_count": 19,
     "metadata": {},
     "output_type": "execute_result"
    }
   ],
   "source": [
    "data.head()"
   ]
  },
  {
   "cell_type": "code",
   "execution_count": 20,
   "metadata": {},
   "outputs": [
    {
     "data": {
      "text/html": [
       "<div>\n",
       "<style scoped>\n",
       "    .dataframe tbody tr th:only-of-type {\n",
       "        vertical-align: middle;\n",
       "    }\n",
       "\n",
       "    .dataframe tbody tr th {\n",
       "        vertical-align: top;\n",
       "    }\n",
       "\n",
       "    .dataframe thead th {\n",
       "        text-align: right;\n",
       "    }\n",
       "</style>\n",
       "<table border=\"1\" class=\"dataframe\">\n",
       "  <thead>\n",
       "    <tr style=\"text-align: right;\">\n",
       "      <th></th>\n",
       "      <th>ADS</th>\n",
       "      <th>CA</th>\n",
       "      <th>MSFT</th>\n",
       "      <th>RHT</th>\n",
       "      <th>CTSH</th>\n",
       "      <th>CSC</th>\n",
       "      <th>EMC</th>\n",
       "      <th>IBM</th>\n",
       "      <th>XRX</th>\n",
       "      <th>ALTR</th>\n",
       "      <th>...</th>\n",
       "      <th>WAT</th>\n",
       "      <th>ALXN</th>\n",
       "      <th>AMGN</th>\n",
       "      <th>BXLT</th>\n",
       "      <th>BIIB</th>\n",
       "      <th>CELG</th>\n",
       "      <th>GILD</th>\n",
       "      <th>REGN</th>\n",
       "      <th>VRTX</th>\n",
       "      <th>HSIC</th>\n",
       "    </tr>\n",
       "  </thead>\n",
       "  <tbody>\n",
       "    <tr>\n",
       "      <th>ADS</th>\n",
       "      <td>1.000000</td>\n",
       "      <td>0.123881</td>\n",
       "      <td>0.216321</td>\n",
       "      <td>0.138958</td>\n",
       "      <td>0.379913</td>\n",
       "      <td>0.160507</td>\n",
       "      <td>0.075650</td>\n",
       "      <td>0.244524</td>\n",
       "      <td>0.097446</td>\n",
       "      <td>0.144679</td>\n",
       "      <td>...</td>\n",
       "      <td>0.232642</td>\n",
       "      <td>0.354521</td>\n",
       "      <td>0.243054</td>\n",
       "      <td>0.014517</td>\n",
       "      <td>0.294062</td>\n",
       "      <td>0.314789</td>\n",
       "      <td>0.303196</td>\n",
       "      <td>0.285921</td>\n",
       "      <td>0.193290</td>\n",
       "      <td>0.310591</td>\n",
       "    </tr>\n",
       "    <tr>\n",
       "      <th>CA</th>\n",
       "      <td>0.123881</td>\n",
       "      <td>1.000000</td>\n",
       "      <td>0.332382</td>\n",
       "      <td>0.107467</td>\n",
       "      <td>0.168269</td>\n",
       "      <td>0.239873</td>\n",
       "      <td>0.245769</td>\n",
       "      <td>0.303925</td>\n",
       "      <td>0.207562</td>\n",
       "      <td>0.306990</td>\n",
       "      <td>...</td>\n",
       "      <td>0.155607</td>\n",
       "      <td>0.109660</td>\n",
       "      <td>0.189318</td>\n",
       "      <td>-0.003986</td>\n",
       "      <td>0.146262</td>\n",
       "      <td>0.132268</td>\n",
       "      <td>0.108358</td>\n",
       "      <td>0.094310</td>\n",
       "      <td>0.185303</td>\n",
       "      <td>0.167769</td>\n",
       "    </tr>\n",
       "    <tr>\n",
       "      <th>MSFT</th>\n",
       "      <td>0.216321</td>\n",
       "      <td>0.332382</td>\n",
       "      <td>1.000000</td>\n",
       "      <td>0.196069</td>\n",
       "      <td>0.267655</td>\n",
       "      <td>0.271875</td>\n",
       "      <td>0.320603</td>\n",
       "      <td>0.455894</td>\n",
       "      <td>0.225106</td>\n",
       "      <td>0.385592</td>\n",
       "      <td>...</td>\n",
       "      <td>0.221424</td>\n",
       "      <td>0.175035</td>\n",
       "      <td>0.346497</td>\n",
       "      <td>0.012031</td>\n",
       "      <td>0.197578</td>\n",
       "      <td>0.228443</td>\n",
       "      <td>0.195822</td>\n",
       "      <td>0.146832</td>\n",
       "      <td>0.213308</td>\n",
       "      <td>0.279060</td>\n",
       "    </tr>\n",
       "    <tr>\n",
       "      <th>RHT</th>\n",
       "      <td>0.138958</td>\n",
       "      <td>0.107467</td>\n",
       "      <td>0.196069</td>\n",
       "      <td>1.000000</td>\n",
       "      <td>0.195811</td>\n",
       "      <td>0.117652</td>\n",
       "      <td>0.156827</td>\n",
       "      <td>0.201953</td>\n",
       "      <td>0.053859</td>\n",
       "      <td>0.175878</td>\n",
       "      <td>...</td>\n",
       "      <td>0.130196</td>\n",
       "      <td>0.133666</td>\n",
       "      <td>0.172798</td>\n",
       "      <td>-0.003587</td>\n",
       "      <td>0.117277</td>\n",
       "      <td>0.138532</td>\n",
       "      <td>0.120633</td>\n",
       "      <td>0.124301</td>\n",
       "      <td>0.112931</td>\n",
       "      <td>0.134313</td>\n",
       "    </tr>\n",
       "    <tr>\n",
       "      <th>CTSH</th>\n",
       "      <td>0.379913</td>\n",
       "      <td>0.168269</td>\n",
       "      <td>0.267655</td>\n",
       "      <td>0.195811</td>\n",
       "      <td>1.000000</td>\n",
       "      <td>0.208166</td>\n",
       "      <td>0.133476</td>\n",
       "      <td>0.336702</td>\n",
       "      <td>0.131248</td>\n",
       "      <td>0.235099</td>\n",
       "      <td>...</td>\n",
       "      <td>0.296488</td>\n",
       "      <td>0.288128</td>\n",
       "      <td>0.244717</td>\n",
       "      <td>0.027443</td>\n",
       "      <td>0.256269</td>\n",
       "      <td>0.334366</td>\n",
       "      <td>0.269997</td>\n",
       "      <td>0.236905</td>\n",
       "      <td>0.199582</td>\n",
       "      <td>0.356092</td>\n",
       "    </tr>\n",
       "    <tr>\n",
       "      <th>...</th>\n",
       "      <td>...</td>\n",
       "      <td>...</td>\n",
       "      <td>...</td>\n",
       "      <td>...</td>\n",
       "      <td>...</td>\n",
       "      <td>...</td>\n",
       "      <td>...</td>\n",
       "      <td>...</td>\n",
       "      <td>...</td>\n",
       "      <td>...</td>\n",
       "      <td>...</td>\n",
       "      <td>...</td>\n",
       "      <td>...</td>\n",
       "      <td>...</td>\n",
       "      <td>...</td>\n",
       "      <td>...</td>\n",
       "      <td>...</td>\n",
       "      <td>...</td>\n",
       "      <td>...</td>\n",
       "      <td>...</td>\n",
       "      <td>...</td>\n",
       "    </tr>\n",
       "    <tr>\n",
       "      <th>CELG</th>\n",
       "      <td>0.314789</td>\n",
       "      <td>0.132268</td>\n",
       "      <td>0.228443</td>\n",
       "      <td>0.138532</td>\n",
       "      <td>0.334366</td>\n",
       "      <td>0.156807</td>\n",
       "      <td>0.113769</td>\n",
       "      <td>0.237477</td>\n",
       "      <td>0.095904</td>\n",
       "      <td>0.168272</td>\n",
       "      <td>...</td>\n",
       "      <td>0.267226</td>\n",
       "      <td>0.504247</td>\n",
       "      <td>0.453488</td>\n",
       "      <td>-0.007953</td>\n",
       "      <td>0.519566</td>\n",
       "      <td>1.000000</td>\n",
       "      <td>0.563648</td>\n",
       "      <td>0.477014</td>\n",
       "      <td>0.363717</td>\n",
       "      <td>0.361462</td>\n",
       "    </tr>\n",
       "    <tr>\n",
       "      <th>GILD</th>\n",
       "      <td>0.303196</td>\n",
       "      <td>0.108358</td>\n",
       "      <td>0.195822</td>\n",
       "      <td>0.120633</td>\n",
       "      <td>0.269997</td>\n",
       "      <td>0.139537</td>\n",
       "      <td>0.076164</td>\n",
       "      <td>0.197230</td>\n",
       "      <td>0.076326</td>\n",
       "      <td>0.134281</td>\n",
       "      <td>...</td>\n",
       "      <td>0.231097</td>\n",
       "      <td>0.489343</td>\n",
       "      <td>0.408733</td>\n",
       "      <td>0.017963</td>\n",
       "      <td>0.502783</td>\n",
       "      <td>0.563648</td>\n",
       "      <td>1.000000</td>\n",
       "      <td>0.464645</td>\n",
       "      <td>0.318713</td>\n",
       "      <td>0.323957</td>\n",
       "    </tr>\n",
       "    <tr>\n",
       "      <th>REGN</th>\n",
       "      <td>0.285921</td>\n",
       "      <td>0.094310</td>\n",
       "      <td>0.146832</td>\n",
       "      <td>0.124301</td>\n",
       "      <td>0.236905</td>\n",
       "      <td>0.114592</td>\n",
       "      <td>0.093828</td>\n",
       "      <td>0.153713</td>\n",
       "      <td>0.055010</td>\n",
       "      <td>0.134025</td>\n",
       "      <td>...</td>\n",
       "      <td>0.214079</td>\n",
       "      <td>0.528841</td>\n",
       "      <td>0.371174</td>\n",
       "      <td>0.030735</td>\n",
       "      <td>0.535553</td>\n",
       "      <td>0.477014</td>\n",
       "      <td>0.464645</td>\n",
       "      <td>1.000000</td>\n",
       "      <td>0.349472</td>\n",
       "      <td>0.250426</td>\n",
       "    </tr>\n",
       "    <tr>\n",
       "      <th>VRTX</th>\n",
       "      <td>0.193290</td>\n",
       "      <td>0.185303</td>\n",
       "      <td>0.213308</td>\n",
       "      <td>0.112931</td>\n",
       "      <td>0.199582</td>\n",
       "      <td>0.179768</td>\n",
       "      <td>0.285517</td>\n",
       "      <td>0.216135</td>\n",
       "      <td>0.073760</td>\n",
       "      <td>0.261434</td>\n",
       "      <td>...</td>\n",
       "      <td>0.320868</td>\n",
       "      <td>0.368057</td>\n",
       "      <td>0.390897</td>\n",
       "      <td>-0.009629</td>\n",
       "      <td>0.416448</td>\n",
       "      <td>0.363717</td>\n",
       "      <td>0.318713</td>\n",
       "      <td>0.349472</td>\n",
       "      <td>1.000000</td>\n",
       "      <td>0.250802</td>\n",
       "    </tr>\n",
       "    <tr>\n",
       "      <th>HSIC</th>\n",
       "      <td>0.310591</td>\n",
       "      <td>0.167769</td>\n",
       "      <td>0.279060</td>\n",
       "      <td>0.134313</td>\n",
       "      <td>0.356092</td>\n",
       "      <td>0.203116</td>\n",
       "      <td>0.099092</td>\n",
       "      <td>0.284798</td>\n",
       "      <td>0.150101</td>\n",
       "      <td>0.203154</td>\n",
       "      <td>...</td>\n",
       "      <td>0.317344</td>\n",
       "      <td>0.280467</td>\n",
       "      <td>0.302670</td>\n",
       "      <td>0.013224</td>\n",
       "      <td>0.301783</td>\n",
       "      <td>0.361462</td>\n",
       "      <td>0.323957</td>\n",
       "      <td>0.250426</td>\n",
       "      <td>0.250802</td>\n",
       "      <td>1.000000</td>\n",
       "    </tr>\n",
       "  </tbody>\n",
       "</table>\n",
       "<p>517 rows × 517 columns</p>\n",
       "</div>"
      ],
      "text/plain": [
       "           ADS        CA      MSFT       RHT      CTSH       CSC       EMC  \\\n",
       "ADS   1.000000  0.123881  0.216321  0.138958  0.379913  0.160507  0.075650   \n",
       "CA    0.123881  1.000000  0.332382  0.107467  0.168269  0.239873  0.245769   \n",
       "MSFT  0.216321  0.332382  1.000000  0.196069  0.267655  0.271875  0.320603   \n",
       "RHT   0.138958  0.107467  0.196069  1.000000  0.195811  0.117652  0.156827   \n",
       "CTSH  0.379913  0.168269  0.267655  0.195811  1.000000  0.208166  0.133476   \n",
       "...        ...       ...       ...       ...       ...       ...       ...   \n",
       "CELG  0.314789  0.132268  0.228443  0.138532  0.334366  0.156807  0.113769   \n",
       "GILD  0.303196  0.108358  0.195822  0.120633  0.269997  0.139537  0.076164   \n",
       "REGN  0.285921  0.094310  0.146832  0.124301  0.236905  0.114592  0.093828   \n",
       "VRTX  0.193290  0.185303  0.213308  0.112931  0.199582  0.179768  0.285517   \n",
       "HSIC  0.310591  0.167769  0.279060  0.134313  0.356092  0.203116  0.099092   \n",
       "\n",
       "           IBM       XRX      ALTR  ...       WAT      ALXN      AMGN  \\\n",
       "ADS   0.244524  0.097446  0.144679  ...  0.232642  0.354521  0.243054   \n",
       "CA    0.303925  0.207562  0.306990  ...  0.155607  0.109660  0.189318   \n",
       "MSFT  0.455894  0.225106  0.385592  ...  0.221424  0.175035  0.346497   \n",
       "RHT   0.201953  0.053859  0.175878  ...  0.130196  0.133666  0.172798   \n",
       "CTSH  0.336702  0.131248  0.235099  ...  0.296488  0.288128  0.244717   \n",
       "...        ...       ...       ...  ...       ...       ...       ...   \n",
       "CELG  0.237477  0.095904  0.168272  ...  0.267226  0.504247  0.453488   \n",
       "GILD  0.197230  0.076326  0.134281  ...  0.231097  0.489343  0.408733   \n",
       "REGN  0.153713  0.055010  0.134025  ...  0.214079  0.528841  0.371174   \n",
       "VRTX  0.216135  0.073760  0.261434  ...  0.320868  0.368057  0.390897   \n",
       "HSIC  0.284798  0.150101  0.203154  ...  0.317344  0.280467  0.302670   \n",
       "\n",
       "          BXLT      BIIB      CELG      GILD      REGN      VRTX      HSIC  \n",
       "ADS   0.014517  0.294062  0.314789  0.303196  0.285921  0.193290  0.310591  \n",
       "CA   -0.003986  0.146262  0.132268  0.108358  0.094310  0.185303  0.167769  \n",
       "MSFT  0.012031  0.197578  0.228443  0.195822  0.146832  0.213308  0.279060  \n",
       "RHT  -0.003587  0.117277  0.138532  0.120633  0.124301  0.112931  0.134313  \n",
       "CTSH  0.027443  0.256269  0.334366  0.269997  0.236905  0.199582  0.356092  \n",
       "...        ...       ...       ...       ...       ...       ...       ...  \n",
       "CELG -0.007953  0.519566  1.000000  0.563648  0.477014  0.363717  0.361462  \n",
       "GILD  0.017963  0.502783  0.563648  1.000000  0.464645  0.318713  0.323957  \n",
       "REGN  0.030735  0.535553  0.477014  0.464645  1.000000  0.349472  0.250426  \n",
       "VRTX -0.009629  0.416448  0.363717  0.318713  0.349472  1.000000  0.250802  \n",
       "HSIC  0.013224  0.301783  0.361462  0.323957  0.250426  0.250802  1.000000  \n",
       "\n",
       "[517 rows x 517 columns]"
      ]
     },
     "execution_count": 20,
     "metadata": {},
     "output_type": "execute_result"
    }
   ],
   "source": [
    "data.corr()"
   ]
  },
  {
   "cell_type": "code",
   "execution_count": 63,
   "metadata": {},
   "outputs": [],
   "source": [
    "feature_list = 'XLI QQQ SPY DIA GLD VXX USO'\n",
    "feature = feature_list.split()"
   ]
  },
  {
   "cell_type": "code",
   "execution_count": 64,
   "metadata": {},
   "outputs": [],
   "source": [
    "df_data_2 = data.loc[:,['XLI', 'QQQ']]\n",
    "data = data.loc[:,feature]"
   ]
  },
  {
   "cell_type": "code",
   "execution_count": 65,
   "metadata": {},
   "outputs": [
    {
     "data": {
      "image/png": "[encoded data removed]",
      "text/plain": [
       "<Figure size 576x576 with 1 Axes>"
      ]
     },
     "metadata": {
      "needs_background": "light"
     },
     "output_type": "display_data"
    }
   ],
   "source": [
    "import matplotlib.pyplot as plt\n",
    "import seaborn as sns\n",
    "plt.rcParams['figure.figsize'] = [8, 8]\n",
    "sns.scatterplot(x='XLI', \n",
    "                     y='QQQ', \n",
    "                     alpha=0.5,\n",
    "                     data=df_data_2)\n",
    "plt.show()"
   ]
  },
  {
   "cell_type": "code",
   "execution_count": 66,
   "metadata": {},
   "outputs": [
    {
     "data": {
      "text/html": [
       "<div>\n",
       "<style scoped>\n",
       "    .dataframe tbody tr th:only-of-type {\n",
       "        vertical-align: middle;\n",
       "    }\n",
       "\n",
       "    .dataframe tbody tr th {\n",
       "        vertical-align: top;\n",
       "    }\n",
       "\n",
       "    .dataframe thead th {\n",
       "        text-align: right;\n",
       "    }\n",
       "</style>\n",
       "<table border=\"1\" class=\"dataframe\">\n",
       "  <thead>\n",
       "    <tr style=\"text-align: right;\">\n",
       "      <th></th>\n",
       "      <th>XLI</th>\n",
       "      <th>QQQ</th>\n",
       "      <th>SPY</th>\n",
       "      <th>DIA</th>\n",
       "      <th>GLD</th>\n",
       "      <th>VXX</th>\n",
       "      <th>USO</th>\n",
       "    </tr>\n",
       "  </thead>\n",
       "  <tbody>\n",
       "    <tr>\n",
       "      <th>XLI</th>\n",
       "      <td>1.000000</td>\n",
       "      <td>0.513993</td>\n",
       "      <td>0.779328</td>\n",
       "      <td>0.809722</td>\n",
       "      <td>0.046381</td>\n",
       "      <td>-0.247005</td>\n",
       "      <td>0.178462</td>\n",
       "    </tr>\n",
       "    <tr>\n",
       "      <th>QQQ</th>\n",
       "      <td>0.513993</td>\n",
       "      <td>1.000000</td>\n",
       "      <td>0.677060</td>\n",
       "      <td>0.564853</td>\n",
       "      <td>0.016006</td>\n",
       "      <td>-0.121767</td>\n",
       "      <td>0.084935</td>\n",
       "    </tr>\n",
       "    <tr>\n",
       "      <th>SPY</th>\n",
       "      <td>0.779328</td>\n",
       "      <td>0.677060</td>\n",
       "      <td>1.000000</td>\n",
       "      <td>0.919994</td>\n",
       "      <td>0.041177</td>\n",
       "      <td>-0.235226</td>\n",
       "      <td>0.201918</td>\n",
       "    </tr>\n",
       "    <tr>\n",
       "      <th>DIA</th>\n",
       "      <td>0.809722</td>\n",
       "      <td>0.564853</td>\n",
       "      <td>0.919994</td>\n",
       "      <td>1.000000</td>\n",
       "      <td>0.032105</td>\n",
       "      <td>-0.239449</td>\n",
       "      <td>0.191142</td>\n",
       "    </tr>\n",
       "    <tr>\n",
       "      <th>GLD</th>\n",
       "      <td>0.046381</td>\n",
       "      <td>0.016006</td>\n",
       "      <td>0.041177</td>\n",
       "      <td>0.032105</td>\n",
       "      <td>1.000000</td>\n",
       "      <td>0.022125</td>\n",
       "      <td>0.274013</td>\n",
       "    </tr>\n",
       "    <tr>\n",
       "      <th>VXX</th>\n",
       "      <td>-0.247005</td>\n",
       "      <td>-0.121767</td>\n",
       "      <td>-0.235226</td>\n",
       "      <td>-0.239449</td>\n",
       "      <td>0.022125</td>\n",
       "      <td>1.000000</td>\n",
       "      <td>-0.151966</td>\n",
       "    </tr>\n",
       "    <tr>\n",
       "      <th>USO</th>\n",
       "      <td>0.178462</td>\n",
       "      <td>0.084935</td>\n",
       "      <td>0.201918</td>\n",
       "      <td>0.191142</td>\n",
       "      <td>0.274013</td>\n",
       "      <td>-0.151966</td>\n",
       "      <td>1.000000</td>\n",
       "    </tr>\n",
       "  </tbody>\n",
       "</table>\n",
       "</div>"
      ],
      "text/plain": [
       "          XLI       QQQ       SPY       DIA       GLD       VXX       USO\n",
       "XLI  1.000000  0.513993  0.779328  0.809722  0.046381 -0.247005  0.178462\n",
       "QQQ  0.513993  1.000000  0.677060  0.564853  0.016006 -0.121767  0.084935\n",
       "SPY  0.779328  0.677060  1.000000  0.919994  0.041177 -0.235226  0.201918\n",
       "DIA  0.809722  0.564853  0.919994  1.000000  0.032105 -0.239449  0.191142\n",
       "GLD  0.046381  0.016006  0.041177  0.032105  1.000000  0.022125  0.274013\n",
       "VXX -0.247005 -0.121767 -0.235226 -0.239449  0.022125  1.000000 -0.151966\n",
       "USO  0.178462  0.084935  0.201918  0.191142  0.274013 -0.151966  1.000000"
      ]
     },
     "execution_count": 66,
     "metadata": {},
     "output_type": "execute_result"
    }
   ],
   "source": [
    "df_data.corr()"
   ]
  },
  {
   "cell_type": "code",
   "execution_count": 67,
   "metadata": {},
   "outputs": [],
   "source": [
    "import matplotlib.pyplot as plt\n",
    "import seaborn as sns\n",
    "\n",
    "plt.rcParams['figure.figsize'] = [15, 12]"
   ]
  },
  {
   "cell_type": "code",
   "execution_count": 68,
   "metadata": {},
   "outputs": [
    {
     "data": {
      "image/png": "[encoded data removed]",
      "text/plain": [
       "<Figure size 1080x864 with 2 Axes>"
      ]
     },
     "metadata": {
      "needs_background": "light"
     },
     "output_type": "display_data"
    }
   ],
   "source": [
    "sns.heatmap(data.corr(), annot = True, annot_kws={'size' : 10}, cmap = 'Blues')\n",
    "plt.show()"
   ]
  },
  {
   "cell_type": "code",
   "execution_count": 30,
   "metadata": {},
   "outputs": [],
   "source": [
    "data3 = pd.DataFrame({'v1':[2,4,5,6,7],'v2':[9,8,7,4,5]})"
   ]
  },
  {
   "cell_type": "code",
   "execution_count": 31,
   "metadata": {},
   "outputs": [
    {
     "data": {
      "text/html": [
       "<div>\n",
       "<style scoped>\n",
       "    .dataframe tbody tr th:only-of-type {\n",
       "        vertical-align: middle;\n",
       "    }\n",
       "\n",
       "    .dataframe tbody tr th {\n",
       "        vertical-align: top;\n",
       "    }\n",
       "\n",
       "    .dataframe thead th {\n",
       "        text-align: right;\n",
       "    }\n",
       "</style>\n",
       "<table border=\"1\" class=\"dataframe\">\n",
       "  <thead>\n",
       "    <tr style=\"text-align: right;\">\n",
       "      <th></th>\n",
       "      <th>v1</th>\n",
       "      <th>v2</th>\n",
       "    </tr>\n",
       "  </thead>\n",
       "  <tbody>\n",
       "    <tr>\n",
       "      <th>count</th>\n",
       "      <td>5.000000</td>\n",
       "      <td>5.000000</td>\n",
       "    </tr>\n",
       "    <tr>\n",
       "      <th>mean</th>\n",
       "      <td>4.800000</td>\n",
       "      <td>6.600000</td>\n",
       "    </tr>\n",
       "    <tr>\n",
       "      <th>std</th>\n",
       "      <td>1.923538</td>\n",
       "      <td>2.073644</td>\n",
       "    </tr>\n",
       "    <tr>\n",
       "      <th>min</th>\n",
       "      <td>2.000000</td>\n",
       "      <td>4.000000</td>\n",
       "    </tr>\n",
       "    <tr>\n",
       "      <th>25%</th>\n",
       "      <td>4.000000</td>\n",
       "      <td>5.000000</td>\n",
       "    </tr>\n",
       "    <tr>\n",
       "      <th>50%</th>\n",
       "      <td>5.000000</td>\n",
       "      <td>7.000000</td>\n",
       "    </tr>\n",
       "    <tr>\n",
       "      <th>75%</th>\n",
       "      <td>6.000000</td>\n",
       "      <td>8.000000</td>\n",
       "    </tr>\n",
       "    <tr>\n",
       "      <th>max</th>\n",
       "      <td>7.000000</td>\n",
       "      <td>9.000000</td>\n",
       "    </tr>\n",
       "  </tbody>\n",
       "</table>\n",
       "</div>"
      ],
      "text/plain": [
       "             v1        v2\n",
       "count  5.000000  5.000000\n",
       "mean   4.800000  6.600000\n",
       "std    1.923538  2.073644\n",
       "min    2.000000  4.000000\n",
       "25%    4.000000  5.000000\n",
       "50%    5.000000  7.000000\n",
       "75%    6.000000  8.000000\n",
       "max    7.000000  9.000000"
      ]
     },
     "execution_count": 31,
     "metadata": {},
     "output_type": "execute_result"
    }
   ],
   "source": [
    "data3.describe()"
   ]
  },
  {
   "cell_type": "code",
   "execution_count": 32,
   "metadata": {
    "scrolled": true
   },
   "outputs": [],
   "source": [
    "data3_v1 = data3.v1 - data3.v1.mean()"
   ]
  },
  {
   "cell_type": "code",
   "execution_count": 33,
   "metadata": {},
   "outputs": [],
   "source": [
    "data3_v2 = data3.v2 - data3.v2.mean()"
   ]
  },
  {
   "cell_type": "code",
   "execution_count": 34,
   "metadata": {},
   "outputs": [],
   "source": [
    "data_vv = data3_v1 * data3_v2"
   ]
  },
  {
   "cell_type": "code",
   "execution_count": 35,
   "metadata": {},
   "outputs": [],
   "source": [
    "data_vv_sum = data_vv.sum()"
   ]
  },
  {
   "cell_type": "code",
   "execution_count": 36,
   "metadata": {},
   "outputs": [],
   "source": [
    "n = 4*1.923538*2.073644"
   ]
  },
  {
   "cell_type": "code",
   "execution_count": 37,
   "metadata": {},
   "outputs": [
    {
     "data": {
      "text/plain": [
       "-0.9025422284952763"
      ]
     },
     "execution_count": 37,
     "metadata": {},
     "output_type": "execute_result"
    }
   ],
   "source": [
    "data_vv_sum/n"
   ]
  },
  {
   "cell_type": "code",
   "execution_count": 50,
   "metadata": {},
   "outputs": [
    {
     "data": {
      "text/html": [
       "<div>\n",
       "<style scoped>\n",
       "    .dataframe tbody tr th:only-of-type {\n",
       "        vertical-align: middle;\n",
       "    }\n",
       "\n",
       "    .dataframe tbody tr th {\n",
       "        vertical-align: top;\n",
       "    }\n",
       "\n",
       "    .dataframe thead th {\n",
       "        text-align: right;\n",
       "    }\n",
       "</style>\n",
       "<table border=\"1\" class=\"dataframe\">\n",
       "  <thead>\n",
       "    <tr style=\"text-align: right;\">\n",
       "      <th></th>\n",
       "      <th>CSX</th>\n",
       "      <th>KSU</th>\n",
       "      <th>NSC</th>\n",
       "      <th>UNP</th>\n",
       "      <th>AAL</th>\n",
       "    </tr>\n",
       "  </thead>\n",
       "  <tbody>\n",
       "    <tr>\n",
       "      <th>CSX</th>\n",
       "      <td>1.000000</td>\n",
       "      <td>0.628238</td>\n",
       "      <td>0.749054</td>\n",
       "      <td>0.708972</td>\n",
       "      <td>0.220787</td>\n",
       "    </tr>\n",
       "    <tr>\n",
       "      <th>KSU</th>\n",
       "      <td>0.628238</td>\n",
       "      <td>1.000000</td>\n",
       "      <td>0.640589</td>\n",
       "      <td>0.666572</td>\n",
       "      <td>0.219014</td>\n",
       "    </tr>\n",
       "    <tr>\n",
       "      <th>NSC</th>\n",
       "      <td>0.749054</td>\n",
       "      <td>0.640589</td>\n",
       "      <td>1.000000</td>\n",
       "      <td>0.714690</td>\n",
       "      <td>0.222869</td>\n",
       "    </tr>\n",
       "    <tr>\n",
       "      <th>UNP</th>\n",
       "      <td>0.708972</td>\n",
       "      <td>0.666572</td>\n",
       "      <td>0.714690</td>\n",
       "      <td>1.000000</td>\n",
       "      <td>0.232976</td>\n",
       "    </tr>\n",
       "    <tr>\n",
       "      <th>AAL</th>\n",
       "      <td>0.220787</td>\n",
       "      <td>0.219014</td>\n",
       "      <td>0.222869</td>\n",
       "      <td>0.232976</td>\n",
       "      <td>1.000000</td>\n",
       "    </tr>\n",
       "  </tbody>\n",
       "</table>\n",
       "</div>"
      ],
      "text/plain": [
       "          CSX       KSU       NSC       UNP       AAL\n",
       "CSX  1.000000  0.628238  0.749054  0.708972  0.220787\n",
       "KSU  0.628238  1.000000  0.640589  0.666572  0.219014\n",
       "NSC  0.749054  0.640589  1.000000  0.714690  0.222869\n",
       "UNP  0.708972  0.666572  0.714690  1.000000  0.232976\n",
       "AAL  0.220787  0.219014  0.222869  0.232976  1.000000"
      ]
     },
     "execution_count": 50,
     "metadata": {},
     "output_type": "execute_result"
    }
   ],
   "source": [
    "data.iloc[:,80:85].corr()"
   ]
  },
  {
   "cell_type": "code",
   "execution_count": null,
   "metadata": {},
   "outputs": [],
   "source": []
  },
  {
   "cell_type": "code",
   "execution_count": 43,
   "metadata": {},
   "outputs": [
    {
     "data": {
      "image/png": "[encoded data removed]",
      "text/plain": [
       "<Figure size 576x576 with 1 Axes>"
      ]
     },
     "metadata": {
      "needs_background": "light"
     },
     "output_type": "display_data"
    }
   ],
   "source": [
    "import matplotlib.pyplot as plt\n",
    "import seaborn as sns\n",
    "plt.rcParams['figure.figsize'] = [8, 8]\n",
    "sns.scatterplot(x='IWM', y='XLY', alpha=0.5,data=df_data.corr())\n",
    "plt.show()"
   ]
  },
  {
   "cell_type": "code",
   "execution_count": 38,
   "metadata": {
    "scrolled": true
   },
   "outputs": [
    {
     "data": {
      "text/html": [
       "<div>\n",
       "<style scoped>\n",
       "    .dataframe tbody tr th:only-of-type {\n",
       "        vertical-align: middle;\n",
       "    }\n",
       "\n",
       "    .dataframe tbody tr th {\n",
       "        vertical-align: top;\n",
       "    }\n",
       "\n",
       "    .dataframe thead th {\n",
       "        text-align: right;\n",
       "    }\n",
       "</style>\n",
       "<table border=\"1\" class=\"dataframe\">\n",
       "  <thead>\n",
       "    <tr style=\"text-align: right;\">\n",
       "      <th></th>\n",
       "      <th>v1</th>\n",
       "      <th>v2</th>\n",
       "    </tr>\n",
       "  </thead>\n",
       "  <tbody>\n",
       "    <tr>\n",
       "      <th>v1</th>\n",
       "      <td>1.000000</td>\n",
       "      <td>-0.902542</td>\n",
       "    </tr>\n",
       "    <tr>\n",
       "      <th>v2</th>\n",
       "      <td>-0.902542</td>\n",
       "      <td>1.000000</td>\n",
       "    </tr>\n",
       "  </tbody>\n",
       "</table>\n",
       "</div>"
      ],
      "text/plain": [
       "          v1        v2\n",
       "v1  1.000000 -0.902542\n",
       "v2 -0.902542  1.000000"
      ]
     },
     "execution_count": 38,
     "metadata": {},
     "output_type": "execute_result"
    }
   ],
   "source": [
    "data3.corr()"
   ]
  },
  {
   "cell_type": "code",
   "execution_count": 39,
   "metadata": {},
   "outputs": [
    {
     "data": {
      "text/plain": [
       "v1    1.923538\n",
       "v2    2.073644\n",
       "dtype: float64"
      ]
     },
     "execution_count": 39,
     "metadata": {},
     "output_type": "execute_result"
    }
   ],
   "source": [
    "data3.std()"
   ]
  },
  {
   "cell_type": "code",
   "execution_count": null,
   "metadata": {},
   "outputs": [],
   "source": []
  },
  {
   "cell_type": "code",
   "execution_count": null,
   "metadata": {},
   "outputs": [],
   "source": []
  },
  {
   "cell_type": "code",
   "execution_count": null,
   "metadata": {},
   "outputs": [],
   "source": []
  },
  {
   "cell_type": "code",
   "execution_count": null,
   "metadata": {},
   "outputs": [],
   "source": []
  }
 ],
 "metadata": {
  "kernelspec": {
   "display_name": "Python 3",
   "language": "python",
   "name": "python3"
  },
  "language_info": {
   "codemirror_mode": {
    "name": "ipython",
    "version": 3
   },
   "file_extension": ".py",
   "mimetype": "text/x-python",
   "name": "python",
   "nbconvert_exporter": "python",
   "pygments_lexer": "ipython3",
   "version": "3.7.6"
  },
  "toc": {
   "base_numbering": 1,
   "nav_menu": {},
   "number_sections": true,
   "sideBar": true,
   "skip_h1_title": false,
   "title_cell": "Table of Contents",
   "title_sidebar": "Contents",
   "toc_cell": false,
   "toc_position": {},
   "toc_section_display": true,
   "toc_window_display": true
  }
 },
 "nbformat": 4,
 "nbformat_minor": 2
}
