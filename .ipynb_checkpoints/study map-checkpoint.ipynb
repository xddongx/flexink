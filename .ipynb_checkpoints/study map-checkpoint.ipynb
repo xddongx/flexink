{
 "cells": [
  {
   "cell_type": "code",
   "execution_count": 35,
   "metadata": {},
   "outputs": [],
   "source": [
    "import simplejson,requests\n",
    "\n",
    "def find_places_keyword(searching):\n",
    "    url = \"https://dapi.kakao.com/v2/local/search/keyword.json?\"\n",
    "    apikey = \"APPkey\"\n",
    "    query = searching\n",
    "    r = requests.get( url, params = {'query':query}, headers={'Authorization' : 'KakaoAK ' + apikey } )\n",
    "    js = simplejson.JSONEncoder().encode(r.json())\n",
    "    r_json = r.json()\n",
    "    rj = r_json['documents'][0]\n",
    "    name = rj['place_name']\n",
    "    x = rj['x']\n",
    "    y = rj['y']\n",
    "    data = [name, x, y, searching]\n",
    "    return data"
   ]
  },
  {
   "cell_type": "code",
   "execution_count": 37,
   "metadata": {},
   "outputs": [
    {
     "data": {
      "text/plain": [
       "{'documents': [{'address_name': '제주특별자치도 제주시 영평동 2231-1',\n",
       "   'category_group_code': '',\n",
       "   'category_group_name': '',\n",
       "   'category_name': '서비스,산업 > 인터넷,IT > 소프트웨어',\n",
       "   'distance': '',\n",
       "   'id': '20147486',\n",
       "   'phone': '064-702-7860',\n",
       "   'place_name': '플렉싱크',\n",
       "   'place_url': 'http://place.map.kakao.com/20147486',\n",
       "   'road_address_name': '제주특별자치도 제주시 첨단로 241',\n",
       "   'x': '126.571705124968',\n",
       "   'y': '33.4510091128677'},\n",
       "  {'address_name': '서울 금천구 가산동 489-11',\n",
       "   'category_group_code': '',\n",
       "   'category_group_name': '',\n",
       "   'category_name': '서비스,산업 > 인터넷,IT > 소프트웨어',\n",
       "   'distance': '',\n",
       "   'id': '1528415679',\n",
       "   'phone': '',\n",
       "   'place_name': '플렉싱크',\n",
       "   'place_url': 'http://place.map.kakao.com/1528415679',\n",
       "   'road_address_name': '서울 금천구 서부샛길 638',\n",
       "   'x': '126.87708581506138',\n",
       "   'y': '37.48097865565866'}],\n",
       " 'meta': {'is_end': True,\n",
       "  'pageable_count': 2,\n",
       "  'same_name': {'keyword': '플렉싱크', 'region': [], 'selected_region': ''},\n",
       "  'total_count': 2}}"
      ]
     },
     "execution_count": 37,
     "metadata": {},
     "output_type": "execute_result"
    }
   ],
   "source": [
    "url = \"https://dapi.kakao.com/v2/local/search/keyword.json?\"\n",
    "apikey = \"f7b706e030ca85d4e6874a24943d2110\"\n",
    "query = '플렉싱크'\n",
    "r = requests.get( url, params = {'query':query}, headers={'Authorization' : 'KakaoAK ' + apikey } )\n",
    "js = simplejson.JSONEncoder().encode(r.json())\n",
    "r_json = r.json()\n",
    "r_json"
   ]
  },
  {
   "cell_type": "code",
   "execution_count": 99,
   "metadata": {},
   "outputs": [
    {
     "data": {
      "text/plain": [
       "['플렉싱크', '126.571705124968', '33.4510091128677', '플렉싱크']"
      ]
     },
     "execution_count": 99,
     "metadata": {},
     "output_type": "execute_result"
    }
   ],
   "source": [
    "find_places('플렉싱크')"
   ]
  },
  {
   "cell_type": "code",
   "execution_count": 83,
   "metadata": {},
   "outputs": [],
   "source": [
    "import simplejson,requests\n",
    "\n",
    "def find_places_address(searching):\n",
    "    url = \"https://dapi.kakao.com/v2/local/search/address.json?\"\n",
    "    apikey = \"f7b706e030ca85d4e6874a24943d2110\"\n",
    "    query = searching\n",
    "    r = requests.get( url, params = {'query':query}, headers={'Authorization' : 'KakaoAK ' + apikey } )\n",
    "    js = simplejson.JSONEncoder().encode(r.json())\n",
    "    r_json = r.json()\n",
    "    rj = r_json['documents'][0]\n",
    "    name = rj['place_name']\n",
    "    x = rj['x']\n",
    "    y = rj['y']\n",
    "    data = [name, x, y, searching]\n",
    "    return data"
   ]
  },
  {
   "cell_type": "code",
   "execution_count": 87,
   "metadata": {},
   "outputs": [
    {
     "ename": "KeyError",
     "evalue": "'place_name'",
     "output_type": "error",
     "traceback": [
      "\u001b[1;31m---------------------------------------------------------------------------\u001b[0m",
      "\u001b[1;31mKeyError\u001b[0m                                  Traceback (most recent call last)",
      "\u001b[1;32m<ipython-input-87-373245d5405e>\u001b[0m in \u001b[0;36m<module>\u001b[1;34m\u001b[0m\n\u001b[1;32m----> 1\u001b[1;33m \u001b[0mfind_places_address\u001b[0m\u001b[1;33m(\u001b[0m\u001b[1;34m'제주특별자치도 제주시 도련일동 1939-3'\u001b[0m\u001b[1;33m)\u001b[0m\u001b[1;33m\u001b[0m\u001b[1;33m\u001b[0m\u001b[0m\n\u001b[0m",
      "\u001b[1;32m<ipython-input-83-84f65b8f7e31>\u001b[0m in \u001b[0;36mfind_places_address\u001b[1;34m(searching)\u001b[0m\n\u001b[0;32m      9\u001b[0m     \u001b[0mr_json\u001b[0m \u001b[1;33m=\u001b[0m \u001b[0mr\u001b[0m\u001b[1;33m.\u001b[0m\u001b[0mjson\u001b[0m\u001b[1;33m(\u001b[0m\u001b[1;33m)\u001b[0m\u001b[1;33m\u001b[0m\u001b[1;33m\u001b[0m\u001b[0m\n\u001b[0;32m     10\u001b[0m     \u001b[0mrj\u001b[0m \u001b[1;33m=\u001b[0m \u001b[0mr_json\u001b[0m\u001b[1;33m[\u001b[0m\u001b[1;34m'documents'\u001b[0m\u001b[1;33m]\u001b[0m\u001b[1;33m[\u001b[0m\u001b[1;36m0\u001b[0m\u001b[1;33m]\u001b[0m\u001b[1;33m\u001b[0m\u001b[1;33m\u001b[0m\u001b[0m\n\u001b[1;32m---> 11\u001b[1;33m     \u001b[0mname\u001b[0m \u001b[1;33m=\u001b[0m \u001b[0mrj\u001b[0m\u001b[1;33m[\u001b[0m\u001b[1;34m'place_name'\u001b[0m\u001b[1;33m]\u001b[0m\u001b[1;33m\u001b[0m\u001b[1;33m\u001b[0m\u001b[0m\n\u001b[0m\u001b[0;32m     12\u001b[0m     \u001b[0mx\u001b[0m \u001b[1;33m=\u001b[0m \u001b[0mrj\u001b[0m\u001b[1;33m[\u001b[0m\u001b[1;34m'x'\u001b[0m\u001b[1;33m]\u001b[0m\u001b[1;33m\u001b[0m\u001b[1;33m\u001b[0m\u001b[0m\n\u001b[0;32m     13\u001b[0m     \u001b[0my\u001b[0m \u001b[1;33m=\u001b[0m \u001b[0mrj\u001b[0m\u001b[1;33m[\u001b[0m\u001b[1;34m'y'\u001b[0m\u001b[1;33m]\u001b[0m\u001b[1;33m\u001b[0m\u001b[1;33m\u001b[0m\u001b[0m\n",
      "\u001b[1;31mKeyError\u001b[0m: 'place_name'"
     ]
    }
   ],
   "source": [
    "find_places_address('제주특별자치도 제주시 도련일동 1939-3')"
   ]
  },
  {
   "cell_type": "code",
   "execution_count": 95,
   "metadata": {},
   "outputs": [
    {
     "data": {
      "text/plain": [
       "{'documents': [{'address': {'address_name': '제주특별자치도 제주시 도련일동 1939-3',\n",
       "    'b_code': '5011013000',\n",
       "    'h_code': '5011061000',\n",
       "    'main_adderss_no': '',\n",
       "    'main_address_no': '1939',\n",
       "    'mountain_yn': 'N',\n",
       "    'region_1depth_name': '제주특별자치도',\n",
       "    'region_2depth_name': '제주시',\n",
       "    'region_3depth_h_name': '삼양동',\n",
       "    'region_3depth_name': '도련일동',\n",
       "    'sub_adderss_no': '',\n",
       "    'sub_address_no': '3',\n",
       "    'x': '126.579894802367',\n",
       "    'y': '33.5164407964456',\n",
       "    'zip_code': ''},\n",
       "   'address_name': '제주특별자치도 제주시 도련일동 1939-3',\n",
       "   'address_type': 'REGION_ADDR',\n",
       "   'road_address': {'address_name': '제주특별자치도 제주시 건주로4길 10-4',\n",
       "    'building_name': '',\n",
       "    'main_building_no': '10',\n",
       "    'region_1depth_name': '제주특별자치도',\n",
       "    'region_2depth_name': '제주시',\n",
       "    'region_3depth_name': '도련일동',\n",
       "    'road_name': '건주로4길',\n",
       "    'sub_building_no': '4',\n",
       "    'undergroun_yn': '',\n",
       "    'underground_yn': 'N',\n",
       "    'x': '126.579900493025',\n",
       "    'y': '33.5164214315062',\n",
       "    'zone_no': '63323'},\n",
       "   'x': '126.579894802367',\n",
       "   'y': '33.5164407964456'}],\n",
       " 'meta': {'is_end': True, 'pageable_count': 1, 'total_count': 1}}"
      ]
     },
     "execution_count": 95,
     "metadata": {},
     "output_type": "execute_result"
    }
   ],
   "source": [
    "url = \"https://dapi.kakao.com/v2/local/search/address.json?\"\n",
    "apikey = \"f7b706e030ca85d4e6874a24943d2110\"\n",
    "query = '도련일동 1939-3 파스쿠치 제주삼화지구점'\n",
    "r = requests.get( url, params = {'query':query}, headers={'Authorization' : 'KakaoAK ' + apikey } )\n",
    "js = simplejson.JSONEncoder().encode(r.json())\n",
    "r_json = r.json()\n",
    "r_json"
   ]
  },
  {
   "cell_type": "code",
   "execution_count": null,
   "metadata": {},
   "outputs": [],
   "source": []
  },
  {
   "cell_type": "code",
   "execution_count": 1,
   "metadata": {},
   "outputs": [],
   "source": [
    "from selenium import webdriver\n",
    "\n",
    "def insta_searching(word):\n",
    "    url = 'https://www.instagram.com/explore/tags/' + word\n",
    "    return url"
   ]
  },
  {
   "cell_type": "code",
   "execution_count": 2,
   "metadata": {},
   "outputs": [],
   "source": [
    "def select_first(driver):\n",
    "    first = driver.find_element_by_css_selector('div._9AhH0')\n",
    "    first.click()\n",
    "    time.sleep(3)"
   ]
  },
  {
   "cell_type": "code",
   "execution_count": 3,
   "metadata": {},
   "outputs": [],
   "source": [
    "def get_content(driver):\n",
    "    html = driver.page_source\n",
    "    \n",
    "    soup = BeautifulSoup(html, 'lxml')\n",
    "    \n",
    "    try:\n",
    "        content = soup.select('div.C4VMK > span')[0].text\n",
    "#         print(content)\n",
    "    except:\n",
    "        content = ''\n",
    "    \n",
    "    tags = re.findall(r'#[^\\s#,\\\\]+', content)\n",
    "#     print(tags)\n",
    "    \n",
    "    date = soup.select('time._1o9PC.Nzb55')[0]['datetime'][:10]\n",
    "#     print(date)\n",
    "    \n",
    "    try:\n",
    "        like = soup.select('div.Nm9Fw > button')[0].test[4:1]\n",
    "#         print(like)\n",
    "    except:\n",
    "        like = 0\n",
    "    \n",
    "    try:\n",
    "        place = soup.select('div.M30cS')[0].text\n",
    "#         print(place)\n",
    "    except:\n",
    "        place = ''\n",
    "    data = [content, date, like, place, tags]\n",
    "    return data"
   ]
  },
  {
   "cell_type": "code",
   "execution_count": 4,
   "metadata": {},
   "outputs": [],
   "source": [
    "def move_next(driver):\n",
    "    right = driver.find_element_by_css_selector('a._65Bje.coreSpriteRightPaginationArrow')\n",
    "    right.click()\n",
    "    time.sleep(3)"
   ]
  },
  {
   "cell_type": "code",
   "execution_count": 6,
   "metadata": {},
   "outputs": [
    {
     "ename": "IndexError",
     "evalue": "list index out of range",
     "output_type": "error",
     "traceback": [
      "\u001b[1;31m---------------------------------------------------------------------------\u001b[0m",
      "\u001b[1;31mIndexError\u001b[0m                                Traceback (most recent call last)",
      "\u001b[1;32m<ipython-input-6-030007893043>\u001b[0m in \u001b[0;36m<module>\u001b[1;34m\u001b[0m\n\u001b[0;32m     14\u001b[0m \u001b[0mtarget\u001b[0m \u001b[1;33m=\u001b[0m \u001b[1;36m20000\u001b[0m\u001b[1;33m\u001b[0m\u001b[1;33m\u001b[0m\u001b[0m\n\u001b[0;32m     15\u001b[0m \u001b[1;32mfor\u001b[0m \u001b[0mi\u001b[0m \u001b[1;32min\u001b[0m \u001b[0mrange\u001b[0m\u001b[1;33m(\u001b[0m\u001b[0mtarget\u001b[0m\u001b[1;33m)\u001b[0m\u001b[1;33m:\u001b[0m\u001b[1;33m\u001b[0m\u001b[1;33m\u001b[0m\u001b[0m\n\u001b[1;32m---> 16\u001b[1;33m     \u001b[0mdata\u001b[0m \u001b[1;33m=\u001b[0m \u001b[0mget_content\u001b[0m\u001b[1;33m(\u001b[0m\u001b[0mdriver\u001b[0m\u001b[1;33m)\u001b[0m\u001b[1;33m\u001b[0m\u001b[1;33m\u001b[0m\u001b[0m\n\u001b[0m\u001b[0;32m     17\u001b[0m     \u001b[0mresults\u001b[0m\u001b[1;33m.\u001b[0m\u001b[0mappend\u001b[0m\u001b[1;33m(\u001b[0m\u001b[0mdata\u001b[0m\u001b[1;33m)\u001b[0m\u001b[1;33m\u001b[0m\u001b[1;33m\u001b[0m\u001b[0m\n\u001b[0;32m     18\u001b[0m     \u001b[0mmove_next\u001b[0m\u001b[1;33m(\u001b[0m\u001b[0mdriver\u001b[0m\u001b[1;33m)\u001b[0m\u001b[1;33m\u001b[0m\u001b[1;33m\u001b[0m\u001b[0m\n",
      "\u001b[1;32m<ipython-input-3-6343324cf9cc>\u001b[0m in \u001b[0;36mget_content\u001b[1;34m(driver)\u001b[0m\n\u001b[0;32m     13\u001b[0m \u001b[1;31m#     print(tags)\u001b[0m\u001b[1;33m\u001b[0m\u001b[1;33m\u001b[0m\u001b[1;33m\u001b[0m\u001b[0m\n\u001b[0;32m     14\u001b[0m \u001b[1;33m\u001b[0m\u001b[0m\n\u001b[1;32m---> 15\u001b[1;33m     \u001b[0mdate\u001b[0m \u001b[1;33m=\u001b[0m \u001b[0msoup\u001b[0m\u001b[1;33m.\u001b[0m\u001b[0mselect\u001b[0m\u001b[1;33m(\u001b[0m\u001b[1;34m'time._1o9PC.Nzb55'\u001b[0m\u001b[1;33m)\u001b[0m\u001b[1;33m[\u001b[0m\u001b[1;36m0\u001b[0m\u001b[1;33m]\u001b[0m\u001b[1;33m[\u001b[0m\u001b[1;34m'datetime'\u001b[0m\u001b[1;33m]\u001b[0m\u001b[1;33m[\u001b[0m\u001b[1;33m:\u001b[0m\u001b[1;36m10\u001b[0m\u001b[1;33m]\u001b[0m\u001b[1;33m\u001b[0m\u001b[1;33m\u001b[0m\u001b[0m\n\u001b[0m\u001b[0;32m     16\u001b[0m \u001b[1;31m#     print(date)\u001b[0m\u001b[1;33m\u001b[0m\u001b[1;33m\u001b[0m\u001b[1;33m\u001b[0m\u001b[0m\n\u001b[0;32m     17\u001b[0m \u001b[1;33m\u001b[0m\u001b[0m\n",
      "\u001b[1;31mIndexError\u001b[0m: list index out of range"
     ]
    }
   ],
   "source": [
    "from bs4 import BeautifulSoup\n",
    "import re, time\n",
    "\n",
    "driver = webdriver.Chrome('c:/chromedriver.exe')\n",
    "word = '월정리'\n",
    "url = insta_searching(word)\n",
    "driver.get(url)\n",
    "time.sleep(3)\n",
    "\n",
    "select_first(driver)\n",
    "\n",
    "results = []\n",
    "\n",
    "target = 20000\n",
    "for i in range(target):\n",
    "    data = get_content(driver)\n",
    "    results.append(data)\n",
    "    move_next(driver)\n",
    "    \n",
    "print(results)"
   ]
  },
  {
   "cell_type": "code",
   "execution_count": 8,
   "metadata": {},
   "outputs": [
    {
     "data": {
      "text/plain": [
       "200"
      ]
     },
     "execution_count": 8,
     "metadata": {},
     "output_type": "execute_result"
    }
   ],
   "source": [
    "len(results)"
   ]
  },
  {
   "cell_type": "code",
   "execution_count": 10,
   "metadata": {},
   "outputs": [],
   "source": [
    "import pandas as pd\n",
    "insta = pd.DataFrame(results)"
   ]
  },
  {
   "cell_type": "code",
   "execution_count": 11,
   "metadata": {},
   "outputs": [],
   "source": [
    "insta.columns = ['contents', 'date', 'like', 'place','tag']"
   ]
  },
  {
   "cell_type": "code",
   "execution_count": null,
   "metadata": {},
   "outputs": [],
   "source": []
  },
  {
   "cell_type": "code",
   "execution_count": null,
   "metadata": {},
   "outputs": [],
   "source": []
  },
  {
   "cell_type": "code",
   "execution_count": null,
   "metadata": {},
   "outputs": [],
   "source": []
  },
  {
   "cell_type": "code",
   "execution_count": null,
   "metadata": {},
   "outputs": [],
   "source": []
  },
  {
   "cell_type": "code",
   "execution_count": null,
   "metadata": {},
   "outputs": [],
   "source": []
  },
  {
   "cell_type": "code",
   "execution_count": null,
   "metadata": {},
   "outputs": [],
   "source": []
  },
  {
   "cell_type": "code",
   "execution_count": null,
   "metadata": {},
   "outputs": [],
   "source": []
  },
  {
   "cell_type": "code",
   "execution_count": null,
   "metadata": {},
   "outputs": [],
   "source": []
  },
  {
   "cell_type": "code",
   "execution_count": null,
   "metadata": {},
   "outputs": [],
   "source": []
  },
  {
   "cell_type": "code",
   "execution_count": null,
   "metadata": {},
   "outputs": [],
   "source": []
  },
  {
   "cell_type": "code",
   "execution_count": null,
   "metadata": {},
   "outputs": [],
   "source": []
  },
  {
   "cell_type": "code",
   "execution_count": null,
   "metadata": {},
   "outputs": [],
   "source": []
  },
  {
   "cell_type": "code",
   "execution_count": null,
   "metadata": {},
   "outputs": [],
   "source": []
  },
  {
   "cell_type": "code",
   "execution_count": null,
   "metadata": {},
   "outputs": [],
   "source": []
  },
  {
   "cell_type": "code",
   "execution_count": null,
   "metadata": {},
   "outputs": [],
   "source": []
  },
  {
   "cell_type": "code",
   "execution_count": null,
   "metadata": {},
   "outputs": [],
   "source": []
  },
  {
   "cell_type": "code",
   "execution_count": null,
   "metadata": {},
   "outputs": [],
   "source": []
  },
  {
   "cell_type": "code",
   "execution_count": null,
   "metadata": {},
   "outputs": [],
   "source": []
  },
  {
   "cell_type": "code",
   "execution_count": null,
   "metadata": {},
   "outputs": [],
   "source": []
  },
  {
   "cell_type": "code",
   "execution_count": null,
   "metadata": {},
   "outputs": [],
   "source": []
  },
  {
   "cell_type": "code",
   "execution_count": null,
   "metadata": {},
   "outputs": [],
   "source": []
  },
  {
   "cell_type": "code",
   "execution_count": null,
   "metadata": {},
   "outputs": [],
   "source": []
  }
 ],
 "metadata": {
  "kernelspec": {
   "display_name": "Python 3",
   "language": "python",
   "name": "python3"
  },
  "language_info": {
   "codemirror_mode": {
    "name": "ipython",
    "version": 3
   },
   "file_extension": ".py",
   "mimetype": "text/x-python",
   "name": "python",
   "nbconvert_exporter": "python",
   "pygments_lexer": "ipython3",
   "version": "3.7.6"
  },
  "toc": {
   "base_numbering": 1,
   "nav_menu": {},
   "number_sections": true,
   "sideBar": true,
   "skip_h1_title": false,
   "title_cell": "Table of Contents",
   "title_sidebar": "Contents",
   "toc_cell": false,
   "toc_position": {},
   "toc_section_display": true,
   "toc_window_display": false
  }
 },
 "nbformat": 4,
 "nbformat_minor": 4
}
